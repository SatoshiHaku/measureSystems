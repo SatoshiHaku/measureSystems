{
 "cells": [
  {
   "attachments": {},
   "cell_type": "markdown",
   "metadata": {},
   "source": [
    "## fundemental of pyvisa"
   ]
  },
  {
   "cell_type": "code",
   "execution_count": 1,
   "metadata": {},
   "outputs": [
    {
     "name": "stdout",
     "output_type": "stream",
     "text": [
      "GPIB0::1::INSTR\n",
      "ADC Corp.,R6240A,040300114,B00  \n",
      "\n",
      "GPIB0::6::INSTR\n",
      "KEITHLEY INSTRUMENTS INC.,MODEL 2182A,1300416,C02  /A02  \n",
      "\n",
      "GPIB0::16::INSTR\n",
      "Agilent Technologies,N5222A,MY51421769,A.10.00.00\n",
      "\n",
      "GPIB0::19::INSTR\n",
      "Agilent Technologies, N5183A, MY50142013, A.01.87\n",
      "\n"
     ]
    }
   ],
   "source": [
    "import pyvisa\n",
    "\n",
    "rm = pyvisa.ResourceManager()\n",
    "List = rm.list_resources() # read instruments by GPIB\n",
    "Inst_l = []\n",
    "Instname_l = []\n",
    "for resource in List:\n",
    "    inst = rm.open_resource(resource)\n",
    "    print(resource)\n",
    "    print(inst.query(\"*IDN?\")) # send query for name of instrument\n",
    "    \n",
    "    Inst_l.append(inst)\n",
    "    Instname_l.append(inst.query(\"*IDN?\"))"
   ]
  },
  {
   "cell_type": "code",
   "execution_count": 38,
   "metadata": {},
   "outputs": [
    {
     "data": {
      "text/plain": [
       "()"
      ]
     },
     "execution_count": 38,
     "metadata": {},
     "output_type": "execute_result"
    }
   ],
   "source": [
    "import pyvisa\n",
    "rm = pyvisa.ResourceManager()\n",
    "List = rm.list_resources() # read instruments by GPIB\n",
    "List"
   ]
  },
  {
   "attachments": {},
   "cell_type": "markdown",
   "metadata": {},
   "source": [
    "## with pymeasure"
   ]
  },
  {
   "cell_type": "code",
   "execution_count": null,
   "metadata": {},
   "outputs": [],
   "source": [
    "from pymeasure.instruments import list_resources\n",
    "list_resources()"
   ]
  },
  {
   "cell_type": "code",
   "execution_count": 4,
   "metadata": {},
   "outputs": [
    {
     "name": "stdout",
     "output_type": "stream",
     "text": [
      "0.0828554344\n"
     ]
    }
   ],
   "source": [
    "from pymeasure.instruments.keithley import Keithley2000\n",
    "multimeter = Keithley2000(\"GPIB::14\")\n",
    "multimeter.measure_voltage()\n",
    "\n",
    "print(multimeter.voltage)"
   ]
  },
  {
   "cell_type": "code",
   "execution_count": 5,
   "metadata": {},
   "outputs": [],
   "source": [
    "from pymeasure.instruments.adcmt import Adcmt6240A\n",
    "import time\n",
    "source = Adcmt6240A(\"GPIB::01\")\n",
    "source.initialize()\n",
    "source.source_enabled(enable=True)\n",
    "for i in range(0,10):\n",
    "    source_voltage = i*10**-3\n",
    "    source.apply_voltage(source_voltage=source_voltage)\n",
    "    time.sleep(0.5)\n",
    "source.source_enabled(enable=False)\n",
    "source.shutdown()\n",
    "\n",
    "\n"
   ]
  },
  {
   "cell_type": "code",
   "execution_count": 6,
   "metadata": {},
   "outputs": [
    {
     "ename": "LookupError",
     "evalue": "Instrument property can not be set.",
     "output_type": "error",
     "traceback": [
      "\u001b[1;31m---------------------------------------------------------------------------\u001b[0m",
      "\u001b[1;31mLookupError\u001b[0m                               Traceback (most recent call last)",
      "Cell \u001b[1;32mIn[6], line 1\u001b[0m\n\u001b[1;32m----> 1\u001b[0m source\u001b[39m.\u001b[39;49mvoltage \u001b[39m=\u001b[39m \u001b[39m1\u001b[39m\n",
      "File \u001b[1;32mc:\\Users\\Ando_lab\\anaconda3\\envs\\pymeasure_env\\lib\\site-packages\\pymeasure\\instruments\\instrument.py:200\u001b[0m, in \u001b[0;36mInstrument.__setattr__\u001b[1;34m(self, name, value)\u001b[0m\n\u001b[0;32m    198\u001b[0m     \u001b[39mif\u001b[39;00m name \u001b[39min\u001b[39;00m \u001b[39mself\u001b[39m\u001b[39m.\u001b[39m_special_names:\n\u001b[0;32m    199\u001b[0m         name \u001b[39m=\u001b[39m \u001b[39mself\u001b[39m\u001b[39m.\u001b[39m__reserved_prefix \u001b[39m+\u001b[39m name\n\u001b[1;32m--> 200\u001b[0m \u001b[39msuper\u001b[39;49m()\u001b[39m.\u001b[39;49m\u001b[39m__setattr__\u001b[39;49m(name, value)\n",
      "File \u001b[1;32mc:\\Users\\Ando_lab\\anaconda3\\envs\\pymeasure_env\\lib\\site-packages\\pymeasure\\instruments\\instrument.py:465\u001b[0m, in \u001b[0;36mInstrument.control.<locals>.fset\u001b[1;34m(self, value, set_command, validator, values, map_values, set_process, command_process, check_set_errors)\u001b[0m\n\u001b[0;32m    453\u001b[0m \u001b[39mdef\u001b[39;00m \u001b[39mfset\u001b[39m(\u001b[39mself\u001b[39m,\n\u001b[0;32m    454\u001b[0m          value,\n\u001b[0;32m    455\u001b[0m          set_command\u001b[39m=\u001b[39mset_command,\n\u001b[1;32m   (...)\u001b[0m\n\u001b[0;32m    461\u001b[0m          check_set_errors\u001b[39m=\u001b[39mcheck_set_errors,\n\u001b[0;32m    462\u001b[0m          ):\n\u001b[0;32m    464\u001b[0m     \u001b[39mif\u001b[39;00m set_command \u001b[39mis\u001b[39;00m \u001b[39mNone\u001b[39;00m:\n\u001b[1;32m--> 465\u001b[0m         \u001b[39mraise\u001b[39;00m \u001b[39mLookupError\u001b[39;00m(\u001b[39m\"\u001b[39m\u001b[39mInstrument property can not be set.\u001b[39m\u001b[39m\"\u001b[39m)\n\u001b[0;32m    467\u001b[0m     value \u001b[39m=\u001b[39m set_process(validator(value, values))\n\u001b[0;32m    468\u001b[0m     \u001b[39mif\u001b[39;00m \u001b[39mnot\u001b[39;00m map_values:\n",
      "\u001b[1;31mLookupError\u001b[0m: Instrument property can not be set."
     ]
    }
   ],
   "source": [
    "source.voltage = 1"
   ]
  },
  {
   "cell_type": "code",
   "execution_count": 3,
   "metadata": {},
   "outputs": [
    {
     "ename": "NameError",
     "evalue": "name 'Keithley2000' is not defined",
     "output_type": "error",
     "traceback": [
      "\u001b[1;31m---------------------------------------------------------------------------\u001b[0m",
      "\u001b[1;31mNameError\u001b[0m                                 Traceback (most recent call last)",
      "Cell \u001b[1;32mIn[3], line 1\u001b[0m\n\u001b[1;32m----> 1\u001b[0m multimeter \u001b[39m=\u001b[39m Keithley2000(\u001b[39m\"\u001b[39m\u001b[39mGPIB::14\u001b[39m\u001b[39m\"\u001b[39m)\n\u001b[0;32m      2\u001b[0m multimeter\u001b[39m.\u001b[39mmeasure_voltage()\n\u001b[0;32m      4\u001b[0m \u001b[39mprint\u001b[39m(multimeter\u001b[39m.\u001b[39mvoltage)\n",
      "\u001b[1;31mNameError\u001b[0m: name 'Keithley2000' is not defined"
     ]
    }
   ],
   "source": [
    "from pymeasure.instruments.keithley import Keithley2000\n",
    "multimeter = Keithley2000(\"GPIB::14\")\n",
    "multimeter.measure_voltage()\n",
    "\n",
    "print(multimeter.voltage)"
   ]
  },
  {
   "cell_type": "code",
   "execution_count": null,
   "metadata": {},
   "outputs": [],
   "source": [
    "# multimeter.enable_filter(type=\"repeat\",count=10)\n",
    "multimeter.auto_range()"
   ]
  },
  {
   "cell_type": "code",
   "execution_count": null,
   "metadata": {},
   "outputs": [],
   "source": [
    "multimeter.voltage"
   ]
  },
  {
   "attachments": {},
   "cell_type": "markdown",
   "metadata": {},
   "source": [
    "## ADCMT"
   ]
  },
  {
   "cell_type": "code",
   "execution_count": 22,
   "metadata": {},
   "outputs": [
    {
     "data": {
      "text/plain": [
       "11"
      ]
     },
     "execution_count": 22,
     "metadata": {},
     "output_type": "execute_result"
    }
   ],
   "source": [
    "ADCMT = rm.open_resource('GPIB::01')\n",
    "#電源の電圧を計測\n",
    "# max_volt = ADCMT.query('MEAS:VOLT?')\n",
    "\n",
    "# queryを使わない方法\n",
    "ADCMT.write('SOV 0.001')\n",
    "# max_volt = ADCMT.read()"
   ]
  },
  {
   "cell_type": "code",
   "execution_count": 15,
   "metadata": {},
   "outputs": [
    {
     "ename": "ImportError",
     "evalue": "cannot import name 'Adcmt6240A' from 'pymeasure.instruments.adcmt' (c:\\Users\\Ando_lab\\anaconda3\\envs\\pymeasure_env\\lib\\site-packages\\pymeasure\\instruments\\adcmt\\__init__.py)",
     "output_type": "error",
     "traceback": [
      "\u001b[1;31m---------------------------------------------------------------------------\u001b[0m",
      "\u001b[1;31mImportError\u001b[0m                               Traceback (most recent call last)",
      "Cell \u001b[1;32mIn[15], line 1\u001b[0m\n\u001b[1;32m----> 1\u001b[0m \u001b[39mfrom\u001b[39;00m \u001b[39mpymeasure\u001b[39;00m\u001b[39m.\u001b[39;00m\u001b[39minstruments\u001b[39;00m\u001b[39m.\u001b[39;00m\u001b[39madcmt\u001b[39;00m \u001b[39mimport\u001b[39;00m Adcmt6240A\n\u001b[0;32m      2\u001b[0m testADCMT \u001b[39m=\u001b[39m Adcmt6240A(\u001b[39m'\u001b[39m\u001b[39mGPIB::1\u001b[39m\u001b[39m'\u001b[39m)\n",
      "\u001b[1;31mImportError\u001b[0m: cannot import name 'Adcmt6240A' from 'pymeasure.instruments.adcmt' (c:\\Users\\Ando_lab\\anaconda3\\envs\\pymeasure_env\\lib\\site-packages\\pymeasure\\instruments\\adcmt\\__init__.py)"
     ]
    }
   ],
   "source": [
    "from pymeasure.instruments.adcmt import Adcmt6240A\n",
    "testADCMT = Adcmt6240A('GPIB::1')"
   ]
  },
  {
   "cell_type": "code",
   "execution_count": 23,
   "metadata": {},
   "outputs": [
    {
     "data": {
      "text/plain": [
       "6"
      ]
     },
     "execution_count": 23,
     "metadata": {},
     "output_type": "execute_result"
    }
   ],
   "source": [
    "ADCMT.write('*RST')\n",
    "ADCMT.write('VF')\n",
    "ADCMT.write('SOV0.001,LMI0.003')\n",
    "ADCMT.write('*RST')"
   ]
  },
  {
   "cell_type": "code",
   "execution_count": 20,
   "metadata": {},
   "outputs": [
    {
     "data": {
      "text/plain": [
       "5"
      ]
     },
     "execution_count": 20,
     "metadata": {},
     "output_type": "execute_result"
    }
   ],
   "source": [
    "ADCMT.write(\"NZ0\")"
   ]
  },
  {
   "attachments": {},
   "cell_type": "markdown",
   "metadata": {},
   "source": [
    "## Kethley2182A"
   ]
  },
  {
   "cell_type": "code",
   "execution_count": 3,
   "metadata": {},
   "outputs": [
    {
     "name": "stdout",
     "output_type": "stream",
     "text": [
      "0.0747492003\n",
      "0.0197252681\n",
      "-3.44220162\n",
      "-3.46836812\n",
      "-3.49185287\n"
     ]
    }
   ],
   "source": [
    "nanovol = rm.open_resource('GPIB::6')\n",
    "\n",
    "#電源の電圧を計測\n",
    "# max_volt = ADCMT.query('MEAS:VOLT?')\n",
    "\n",
    "# queryを使わない方法\n",
    "nanovol.write('*RST')\n",
    "nanovol.write(\":SENSe:FUNCtion 'VOLTage:DC'\")\n",
    "\n",
    "nanovol.write(\":SENS:FUNC 'VOLT'\")\n",
    "#keithley2182A.write(\"*RST\")\n",
    "nanovol.write(\":DISPlay:ENABle ON\")\n",
    "nanovol.write(\":SENSe:VOLTage:NPLCycles 1\") # medium\n",
    "nanovol.write(\":SENSe:VOLTage:DFILter 0\") # digital filter off\n",
    "for i in range(0,5):\n",
    "    nanovol.write(\":READ?\")\n",
    "    print(float(nanovol.read()))"
   ]
  },
  {
   "cell_type": "code",
   "execution_count": 4,
   "metadata": {},
   "outputs": [
    {
     "name": "stdout",
     "output_type": "stream",
     "text": [
      "-3.6627471\n",
      "-3.68914354\n",
      "-3.71588763\n",
      "-3.74053851\n",
      "-3.76988154\n"
     ]
    }
   ],
   "source": [
    "from pymeasure.instruments.keithley import Keithley2182A\n",
    "nanovol_py = Keithley2182A(\"GPIB::6\")\n",
    "nanovol_py.set_filter(WIND=0)\n",
    "nanovol_py.set_rate(PLC=1)\n",
    "for i in range(0,5):\n",
    "    print(nanovol_py.measure_voltage())"
   ]
  },
  {
   "attachments": {},
   "cell_type": "markdown",
   "metadata": {},
   "source": [
    "## AgilentN5183A"
   ]
  },
  {
   "cell_type": "code",
   "execution_count": 6,
   "metadata": {},
   "outputs": [],
   "source": [
    "from pymeasure.instruments.agilent import AgilentN5183A\n",
    "signalgenerator = AgilentN5183A('GPIB0::19')\n",
    "signalgenerator.initialize()\n",
    "signalgenerator.set_config()\n",
    "signalgenerator.set_frequency(1)\n",
    "signalgenerator.set_power(0)\n",
    "signalgenerator.source_enabled(True)\n",
    "signalgenerator.source_enabled(False)\n",
    "signalgenerator.shutdown()"
   ]
  },
  {
   "cell_type": "code",
   "execution_count": 7,
   "metadata": {},
   "outputs": [],
   "source": []
  },
  {
   "attachments": {},
   "cell_type": "markdown",
   "metadata": {},
   "source": [
    "## Keithley2450A"
   ]
  },
  {
   "cell_type": "code",
   "execution_count": 12,
   "metadata": {},
   "outputs": [
    {
     "name": "stdout",
     "output_type": "stream",
     "text": [
      "0.1000073\n"
     ]
    }
   ],
   "source": [
    "from pymeasure.instruments.keithley import Keithley2450\n",
    "keithley = Keithley2450(\"GPIB::18\")\n",
    "keithley.apply_voltage()                # Sets up to source voltage\n",
    "keithley.source_voltage_range = 1  # Sets the source voltage range to 1\n",
    "keithley.compliance_current = 0.01        # Sets the compliance current to 0.01A\n",
    "keithley.source_voltage = 0        # Sets the source current to 0 V\n",
    "keithley.enable_source() \n",
    "keithley.measure_voltage()              # Sets up to measure voltage\n",
    "\n",
    "keithley.ramp_to_voltage(0.1)          # Ramps the voltage to 0.1 V\n",
    "print(keithley.voltage)    "
   ]
  },
  {
   "cell_type": "code",
   "execution_count": 21,
   "metadata": {},
   "outputs": [],
   "source": [
    "keithley.disable_source()\n"
   ]
  },
  {
   "cell_type": "code",
   "execution_count": 14,
   "metadata": {},
   "outputs": [],
   "source": [
    "keithley.enable_source() \n"
   ]
  },
  {
   "cell_type": "code",
   "execution_count": 20,
   "metadata": {},
   "outputs": [
    {
     "data": {
      "text/plain": [
       "-0.2999713"
      ]
     },
     "execution_count": 20,
     "metadata": {},
     "output_type": "execute_result"
    }
   ],
   "source": [
    "#二行目でモニターには反映されてるけど、多分一行目だけで出力はしてる\n",
    "keithley.source_voltage = -0.3\n",
    "keithley.voltage"
   ]
  },
  {
   "attachments": {},
   "cell_type": "markdown",
   "metadata": {},
   "source": [
    "## Agilent N5222A"
   ]
  },
  {
   "cell_type": "code",
   "execution_count": 2,
   "metadata": {},
   "outputs": [
    {
     "name": "stdout",
     "output_type": "stream",
     "text": [
      "GPIB0::1::INSTR\n",
      "ADC Corp.,R6240A,040300114,B00  \n",
      "\n",
      "GPIB0::6::INSTR\n",
      "KEITHLEY INSTRUMENTS INC.,MODEL 2182A,1300416,C02  /A02  \n",
      "\n",
      "GPIB0::16::INSTR\n",
      "Agilent Technologies,N5222A,MY51421769,A.10.00.00\n",
      "\n",
      "GPIB0::19::INSTR\n",
      "Agilent Technologies, N5183A, MY50142013, A.01.87\n",
      "\n"
     ]
    }
   ],
   "source": [
    "import pyvisa\n",
    "\n",
    "rm = pyvisa.ResourceManager()\n",
    "List = rm.list_resources() # read instruments by GPIB\n",
    "Inst_l = []\n",
    "Instname_l = []\n",
    "for resource in List:\n",
    "    inst = rm.open_resource(resource)\n",
    "    print(resource)\n",
    "    print(inst.query(\"*IDN?\")) # send query for name of instrument\n",
    "    \n",
    "    Inst_l.append(inst)\n",
    "    Instname_l.append(inst.query(\"*IDN?\"))"
   ]
  },
  {
   "cell_type": "code",
   "execution_count": 6,
   "metadata": {},
   "outputs": [],
   "source": [
    "netana = rm.open_resource('GPIB::16')"
   ]
  },
  {
   "cell_type": "code",
   "execution_count": 7,
   "metadata": {},
   "outputs": [
    {
     "data": {
      "text/plain": [
       "14"
      ]
     },
     "execution_count": 7,
     "metadata": {},
     "output_type": "execute_result"
    }
   ],
   "source": [
    "netana.write(\"SYST:FPRESET\")"
   ]
  },
  {
   "cell_type": "code",
   "execution_count": 4,
   "metadata": {},
   "outputs": [
    {
     "data": {
      "text/plain": [
       "26"
      ]
     },
     "execution_count": 4,
     "metadata": {},
     "output_type": "execute_result"
    }
   ],
   "source": [
    "netana.write(\"DISPlay:WINDow1:STATE ON\")#netana上のいつものグラフのウィンドウができる"
   ]
  },
  {
   "cell_type": "code",
   "execution_count": 8,
   "metadata": {},
   "outputs": [],
   "source": [
    "def SendAna(str):\n",
    "    return netana.write(str)"
   ]
  },
  {
   "cell_type": "code",
   "execution_count": null,
   "metadata": {},
   "outputs": [],
   "source": []
  },
  {
   "attachments": {},
   "cell_type": "markdown",
   "metadata": {},
   "source": [
    "### 完成 frequencies dependence of S parameters"
   ]
  },
  {
   "cell_type": "code",
   "execution_count": 3,
   "metadata": {},
   "outputs": [
    {
     "ename": "NameError",
     "evalue": "name 'SendAna' is not defined",
     "output_type": "error",
     "traceback": [
      "\u001b[1;31m---------------------------------------------------------------------------\u001b[0m",
      "\u001b[1;31mNameError\u001b[0m                                 Traceback (most recent call last)",
      "Cell \u001b[1;32mIn[3], line 2\u001b[0m\n\u001b[0;32m      1\u001b[0m \u001b[39mimport\u001b[39;00m \u001b[39mtime\u001b[39;00m\n\u001b[1;32m----> 2\u001b[0m SendAna(\u001b[39m\"\u001b[39m\u001b[39mSYST:FPReset\u001b[39m\u001b[39m\"\u001b[39m) \u001b[39m# preset\u001b[39;00m\n\u001b[0;32m      4\u001b[0m SendAna(\u001b[39m\"\u001b[39m\u001b[39mDISPlay:WINDow1:STATE ON\u001b[39m\u001b[39m\"\u001b[39m)\u001b[39m#turn on display\u001b[39;00m\n\u001b[0;32m      5\u001b[0m SendAna(\u001b[39m\"\u001b[39m\u001b[39mCALCulate1:PARameter:DEFine:EXT \u001b[39m\u001b[39m'\u001b[39m\u001b[39mMyMeas1\u001b[39m\u001b[39m'\u001b[39m\u001b[39m,S21\u001b[39m\u001b[39m\"\u001b[39m)\u001b[39m#Define masurement name and parameters\u001b[39;00m\n",
      "\u001b[1;31mNameError\u001b[0m: name 'SendAna' is not defined"
     ]
    }
   ],
   "source": [
    "import time\n",
    "SendAna(\"SYST:FPReset\") # preset\n",
    "\n",
    "SendAna(\"DISPlay:WINDow1:STATE ON\")#turn on display\n",
    "SendAna(\"CALCulate1:PARameter:DEFine:EXT 'MyMeas1',S21\")#Define masurement name and parameters\n",
    "SendAna(\"DISPlay:WINDow1:TRACe1:FEED 'MyMeas1'\")#shows graph result in window\n",
    "# SendAna(\"CALC:PAR:SEL 'MyMeas1'\")\n",
    "\n",
    "\n",
    "SendAna(\"SENS1:SWE:TYPE 'LIN'\")#sweep type\n",
    "SendAna(\"SENS1:FREQ:STAR 1e8\")#Start of frequency\n",
    "SendAna(\"SENS1:FREQ:STOP 1e9\")#End of frequency\n",
    "SendAna(\"SENS1:SWE:POIN 102\")#Numebr of sweep points\n",
    "SendAna(\"SOUR:POW1 5\") #power DB\n",
    "SendAna(\"SENSe1:BWID 1kHZ\")#band width\n",
    "\n",
    "\n",
    "SendAna(\"DISP:WIND1:TRAC:Y:SCAL:AUTO\") # Auto y scale of display \n",
    "\n",
    "SendAna(\"SENS1:AVER:CLE\")#Clear average\n",
    "SendAna(\"SENS1:AVER:COUN 2\")#1-2^16\n",
    "SendAna(\"SENS1:AVER ON\")\n",
    "# SendAna(\"TRIG:SOUR Man\")#Trigger set manual\n",
    "\n",
    "time.sleep(1)\n",
    "\n",
    "# SendAna(\"SENS1:SWE:TIME:AUTO ON\")#Auto\n",
    "SendAna(\"SENS1:SWE:TIME 0.1\")#seconds\n",
    "# SendAna(\"SENS:FREQ 1e9\")#CW\n",
    "netana.query(\"SENS1:SWE:TIME?\")\n",
    "# SendAna(\"TRIG:CHAN1:AUX:DEL 0\")#Aux trigger\n",
    "\n",
    "\n",
    "SendAna(\"SENS1:X?\") #get X values(ex:frequency)\n",
    "\n",
    "SendAna(\"CALC1:PAR:CAT?\") #->'\"MyMeas1,S21\"\\n'\n",
    "SendAna(\"CALC1:PAR:SEL 'MyMeas1'\") #set data name\n",
    "SendAna(\"FORM:DATA 'ASCII'\")# set data format\n",
    "SendAna(\"FORM:BORD\")#\n",
    "time.sleep(1)\n",
    "\n",
    "# SendAna(\"CALC1:DATA?\")\n",
    "netana.write(\"SENS1:X?\") # get x data\n",
    "X = netana.read() # get x data\n",
    "netana.write(\"CALC1:DATA? SDATA\")# get complex data\n",
    "Y = netana.read()\n",
    "\n",
    "import matplotlib.pyplot as plt\n",
    "import numpy as np\n",
    "import cmath\n",
    "\n",
    "x = list(map(float, X.split(\",\")))#x data\n",
    "y0 = list(map(float, Y.split(\",\")))[0::2] #real part\n",
    "y1 = list(map(float, Y.split(\",\")))[1::2] #imaginary part\n",
    "\n",
    "y = [x+y*1j for x, y in  zip(y0,y1)] # make complex value from Re and Im\n",
    "r = np.array(list(map(abs,y)))#get absolute values\n",
    "theta = np.array(list(map(cmath.phase,y)))#get phases\n",
    "# print(theta)\n",
    "R = 10*np.log10(r**2)# R mW -> dbm\n",
    "plt.plot(x, R)\n",
    "#plt.yscale(\"log\")"
   ]
  },
  {
   "cell_type": "code",
   "execution_count": 1,
   "metadata": {},
   "outputs": [
    {
     "name": "stdout",
     "output_type": "stream",
     "text": [
      "GPIB0::1::INSTR\n",
      "ADC Corp.,R6240A,040300114,B00  \n",
      "\n",
      "GPIB0::6::INSTR\n",
      "KEITHLEY INSTRUMENTS INC.,MODEL 2182A,1300416,C02  /A02  \n",
      "\n",
      "GPIB0::16::INSTR\n",
      "Agilent Technologies,N5222A,MY51421769,A.10.00.00\n",
      "\n",
      "GPIB0::19::INSTR\n",
      "Agilent Technologies, N5183A, MY50142013, A.01.87\n",
      "\n"
     ]
    }
   ],
   "source": [
    "import pyvisa\n",
    "\n",
    "rm = pyvisa.ResourceManager()\n",
    "List = rm.list_resources() # read instruments by GPIB\n",
    "Inst_l = []\n",
    "Instname_l = []\n",
    "for resource in List:\n",
    "    inst = rm.open_resource(resource)\n",
    "    print(resource)\n",
    "    print(inst.query(\"*IDN?\")) # send query for name of instrument\n",
    "    \n",
    "    Inst_l.append(inst)\n",
    "    Instname_l.append(inst.query(\"*IDN?\"))\n"
   ]
  },
  {
   "cell_type": "code",
   "execution_count": 13,
   "metadata": {},
   "outputs": [],
   "source": [
    "from pymeasure.instruments.agilent import AgilentN5222A\n",
    "# netana = rm.open_resource('GPIB::16')\n",
    "agilent = AgilentN5222A('GPIB::16')\n",
    "agilent.set_preset()\n",
    "agilent.setup_SPARM()\n",
    "agilent.set_sweep(startFreq=1e8,endFreq=1e9,num=1001)\n",
    "agilent.set_power()\n",
    "agilent.set_autoYscale()\n",
    "agilent.set_average()\n",
    "# SendAna(\"CALC1:DATA?\")\n",
    "# agilent.get_data()\n",
    "# SendAna(\"CALC1:DATA?\")\n"
   ]
  },
  {
   "cell_type": "code",
   "execution_count": 14,
   "metadata": {},
   "outputs": [
    {
     "data": {
      "text/plain": [
       "0.0019960948823647537"
      ]
     },
     "execution_count": 14,
     "metadata": {},
     "output_type": "execute_result"
    },
    {
     "data": {
      "image/png": "[encoded data removed]",
      "text/plain": [
       "<Figure size 640x480 with 1 Axes>"
      ]
     },
     "metadata": {},
     "output_type": "display_data"
    }
   ],
   "source": [
    "import matplotlib.pyplot as plt\n",
    "# time.sleep(1)\n",
    "\n",
    "agilent.parse_data()\n",
    "# time.sleep(1)\n",
    "\n",
    "x,theta,r = agilent.get_data()\n",
    "# plt.plot(x,theta)\n",
    "plt.plot(x,r)\n",
    "r[90]"
   ]
  },
  {
   "cell_type": "code",
   "execution_count": 2,
   "metadata": {},
   "outputs": [],
   "source": [
    "from pymeasure.instruments.agilent import AgilentN5222A\n",
    "# netana = rm.open_resource('GPIB::16')\n",
    "agilent = AgilentN5222A('GPIB::16')\n",
    "agilent.set_power_off()"
   ]
  },
  {
   "cell_type": "code",
   "execution_count": 241,
   "metadata": {},
   "outputs": [
    {
     "data": {
      "text/plain": [
       "[<matplotlib.lines.Line2D at 0x175863f76d0>]"
      ]
     },
     "execution_count": 241,
     "metadata": {},
     "output_type": "execute_result"
    },
    {
     "data": {
      "image/png": "[encoded data removed]",
      "text/plain": [
       "<Figure size 640x480 with 1 Axes>"
      ]
     },
     "metadata": {},
     "output_type": "display_data"
    }
   ],
   "source": [
    "import time\n",
    "SendAna(\"SYST:FPReset\") # preset\n",
    "\n",
    "SendAna(\"DISPlay:WINDow1:STATE ON\")#turn on display\n",
    "SendAna(\"CALCulate1:PARameter:DEFine:EXT 'MyMeas1',S21\")#Define masurement name and parameters\n",
    "SendAna(\"DISPlay:WINDow1:TRACe1:FEED 'MyMeas1'\")#shows graph result in window\n",
    "# SendAna(\"CALC:PAR:SEL 'MyMeas1'\")\n",
    "\n",
    "SendAna(\"DISPlay:WINDow2:STATE ON\")#turn on display\n",
    "SendAna(\"CALCulate2:PARameter:DEFine:EXT 'MyMeas2',S11\")#Define masurement name and parameters\n",
    "SendAna(\"DISPlay:WINDow2:TRACe2:FEED 'MyMeas2'\")#shows graph result in window\n",
    "# SendAna(\"CALC:PAR:SEL 'MyMeas1'\")\n",
    "\n",
    "\n",
    "SendAna(\"SENS1:SWE:TYPE 'LIN'\")#sweep type\n",
    "SendAna(\"SENS1:FREQ:STAR 1e8\")#Start of frequency\n",
    "SendAna(\"SENS1:FREQ:STOP 1e9\")#End of frequency\n",
    "SendAna(\"SENS1:SWE:POIN 102\")#Numebr of sweep points\n",
    "SendAna(\"SOUR:POW1 5\") #power DB\n",
    "SendAna(\"SENSe1:BWID 1kHZ\")#band width\n",
    "\n",
    "\n",
    "SendAna(\"SENS2:SWE:TYPE 'LIN'\")#sweep type\n",
    "SendAna(\"SENS2:FREQ:STAR 1e8\")#Start of frequency\n",
    "SendAna(\"SENS2:FREQ:STOP 1e9\")#End of frequency\n",
    "SendAna(\"SENS2:SWE:POIN 102\")#Numebr of sweep points\n",
    "SendAna(\"SOUR:POW2 5\") #power DB\n",
    "SendAna(\"SENSe2:BWID 1kHZ\")#band width\n",
    "\n",
    "\n",
    "SendAna(\"DISP:WIND1:TRAC:Y:SCAL:AUTO\") # Auto y scale of display \n",
    "SendAna(\"DISP:WIND2:TRAC:Y:SCAL:AUTO\") # Auto y scale of display \n",
    "\n",
    "SendAna(\"SENS1:AVER:CLE\")#Clear average\n",
    "SendAna(\"SENS1:AVER:COUN 2\")#1-2^16\n",
    "SendAna(\"SENS1:AVER ON\")\n",
    "# SendAna(\"TRIG:SOUR Man\")#Trigger set manual\n",
    "\n",
    "\n",
    "SendAna(\"SENS2:AVER:CLE\")#Clear average\n",
    "SendAna(\"SENS2:AVER:COUN 2\")#1-2^16\n",
    "SendAna(\"SENS2:AVER ON\")\n",
    "# SendAna(\"TRIG:SOUR Man\")#Trigger set manual\n",
    "\n",
    "time.sleep(1)\n",
    "\n",
    "# SendAna(\"SENS1:SWE:TIME:AUTO ON\")#Auto\n",
    "SendAna(\"SENS1:SWE:TIME 0.1\")#seconds\n",
    "\n",
    "SendAna(\"SENS2:SWE:TIME 0.1\")#seconds\n",
    "\n",
    "# SendAna(\"SENS:FREQ 1e9\")#CW\n",
    "netana.query(\"SENS1:SWE:TIME?\")\n",
    "# SendAna(\"TRIG:CHAN1:AUX:DEL 0\")#Aux trigger\n",
    "\n",
    "\n",
    "SendAna(\"SENS1:X?\") #get X values(ex:frequency)\n",
    "SendAna(\"SENS2:X?\") #get X values(ex:frequency)\n",
    "\n",
    "\n",
    "SendAna(\"CALC1:PAR:CAT?\") #->'\"MyMeas1,S21\"\\n'\n",
    "SendAna(\"CALC1:PAR:SEL 'MyMeas1'\") #set data name\n",
    "\n",
    "SendAna(\"CALC2:PAR:CAT?\") #->'\"MyMeas1,S21\"\\n'\n",
    "SendAna(\"CALC2:PAR:SEL 'MyMeas2'\") #set data name\n",
    "\n",
    "SendAna(\"FORM:DATA 'ASCII'\")# set data format\n",
    "SendAna(\"FORM:BORD\")#\n",
    "time.sleep(1)\n",
    "\n",
    "# SendAna(\"CALC1:DATA?\")\n",
    "X = netana.query(\"SENS1:X?\") # get x data\n",
    "Y = netana.query(\"CALC1:DATA? SDATA\")# get complex data\n",
    "X2 = netana.query(\"SENS2:X?\") # get x data\n",
    "Y2 = netana.query(\"CALC2:DATA? SDATA\")# get complex data\n",
    "\n",
    "import matplotlib.pyplot as plt\n",
    "import numpy as np\n",
    "import cmath\n",
    "\n",
    "x = list(map(float, X.split(\",\")))#x data\n",
    "y0 = list(map(float, Y.split(\",\")))[0::2] #real part\n",
    "y1 = list(map(float, Y.split(\",\")))[1::2] #imaginary part\n",
    "\n",
    "y = [x+y*1j for x, y in  zip(y0,y1)] # make complex value from Re and Im\n",
    "r = np.array(list(map(abs,y)))#get absolute values\n",
    "theta = np.array(list(map(cmath.phase,y)))#get phases\n",
    "# print(theta)\n",
    "R = 10*np.log10(r**2)# R mW -> dbm\n",
    "\n",
    "x2 = list(map(float, X2.split(\",\")))#x data\n",
    "y02 = list(map(float, Y2.split(\",\")))[0::2] #real part\n",
    "y12 = list(map(float, Y2.split(\",\")))[1::2] #imaginary part\n",
    "\n",
    "y2 = [x+y*1j for x, y in  zip(y02,y12)] # make complex value from Re and Im\n",
    "r2 = np.array(list(map(abs,y2)))#get absolute values\n",
    "theta2 = np.array(list(map(cmath.phase,y2)))#get phases\n",
    "# print(theta)\n",
    "R2 = 10*np.log10(r2**2)# R mW -> dbm\n",
    "\n",
    "plt.plot(x, R)\n",
    "plt.plot(x2, R2)\n",
    "#plt.yscale(\"log\")"
   ]
  },
  {
   "attachments": {},
   "cell_type": "markdown",
   "metadata": {},
   "source": [
    "### CW"
   ]
  },
  {
   "cell_type": "code",
   "execution_count": 330,
   "metadata": {},
   "outputs": [
    {
     "data": {
      "text/plain": [
       "39"
      ]
     },
     "execution_count": 330,
     "metadata": {},
     "output_type": "execute_result"
    }
   ],
   "source": [
    "import time\n",
    "SendAna(\"SYST:FPReset\") # preset\n",
    "\n",
    "SendAna(\"DISPlay:WINDow1:STATE ON\")#turn on display\n",
    "SendAna(\"CALCulate1:PARameter:DEFine:EXT 'MyMeas1',S21\")#Define masurement name and parameters\n",
    "SendAna(\"DISPlay:WINDow1:TRACe1:FEED 'MyMeas1'\")#shows graph result in window\n",
    "# SendAna(\"CALC:PAR:SEL 'MyMeas1'\")\n",
    "\n"
   ]
  },
  {
   "cell_type": "code",
   "execution_count": 331,
   "metadata": {},
   "outputs": [
    {
     "data": {
      "text/plain": [
       "15"
      ]
     },
     "execution_count": 331,
     "metadata": {},
     "output_type": "execute_result"
    }
   ],
   "source": [
    "\n",
    "SendAna(\"SENS1:SWE:TYPE CW\")#sweep type continuous wave\n",
    "SendAna(\"SENS1:FREQ:CW 1e9\")#CW\n",
    "SendAna(\"SENS1:SWE:TIME 1\")#seconds\n",
    "\n",
    "# SendAna(\"SENS1:FREQ:STAR 1e8\")#Start of frequency\n",
    "# SendAna(\"SENS1:FREQ:STOP 1e9\")#End of frequency\n",
    "SendAna(\"SENS1:SWE:POIN 1000\")#Numebr of sweep points\n",
    "SendAna(\"SOUR:POW1 5\") #power DB\n",
    "SendAna(\"SENSe1:BWID 1kHZ\")#band width\n",
    "\n",
    "# time.sleep(1)\n",
    "\n",
    "SendAna(\"DISP:WIND1:TRAC:Y:SCAL:AUTO\") # Auto y scale of display \n",
    "\n",
    "SendAna(\"SENS1:AVER:CLE\")#Clear average\n",
    "SendAna(\"SENS1:AVER:COUN 100\")#1-2^16\n",
    "SendAna(\"SENS1:AVER ON\")\n",
    "# SendAna(\"TRIG:SOUR Man\")#Trigger set manual\n"
   ]
  },
  {
   "cell_type": "code",
   "execution_count": 332,
   "metadata": {},
   "outputs": [
    {
     "name": "stdout",
     "output_type": "stream",
     "text": [
      "start\n"
     ]
    }
   ],
   "source": [
    "\n",
    "time.sleep(5)\n",
    "print(\"start\")\n",
    "\n",
    "SendAna(\"TRIG:SOUR Man\")#Auto\n",
    "SendAna(\"SENS1:SWE:TIME:AUTO 2\")#seconds\n",
    "SendAna(\"SENS1:SWE:MODE SING\")\n",
    "# # netana.query(\"SENS1:SWE:TIME?\")\n",
    "# # SendAna(\"TRIG:CHAN1:AUX:DEL 0\")#Aux trigger\n",
    "\n",
    "# SendAna(\"INIT:IMM\")#ON?\n",
    "# SendAna(\"DISP:WIND1:TRAC:Y:SCAL:AUTO\") # Auto y scale of display \n",
    "time.sleep(10)\n"
   ]
  },
  {
   "cell_type": "code",
   "execution_count": 333,
   "metadata": {},
   "outputs": [
    {
     "data": {
      "text/plain": [
       "[<matplotlib.lines.Line2D at 0x1758b119df0>]"
      ]
     },
     "execution_count": 333,
     "metadata": {},
     "output_type": "execute_result"
    },
    {
     "data": {
      "image/png": "[encoded data removed]",
      "text/plain": [
       "<Figure size 640x480 with 1 Axes>"
      ]
     },
     "metadata": {},
     "output_type": "display_data"
    }
   ],
   "source": [
    "\n",
    "SendAna(\"SENS1:X?\") #get X values(ex:frequency)\n",
    "\n",
    "SendAna(\"CALC1:PAR:CAT?\") #->'\"MyMeas1,S21\"\\n'\n",
    "SendAna(\"CALC1:PAR:SEL 'MyMeas1'\") #set data name\n",
    "SendAna(\"FORM:DATA 'ASCII'\")# set data format\n",
    "SendAna(\"FORM:BORD\")#\n",
    "time.sleep(1)\n",
    "\n",
    "# SendAna(\"CALC1:DATA?\")\n",
    "X = netana.query(\"SENS1:X?\") # get x data\n",
    "Y = netana.query(\"CALC1:DATA? SDATA\")# get complex data\n",
    "\n",
    "import matplotlib.pyplot as plt\n",
    "import numpy as np\n",
    "import cmath\n",
    "\n",
    "x = list(map(float, X.split(\",\")))#x data\n",
    "y0 = list(map(float, Y.split(\",\")))[0::2] #real part\n",
    "y1 = list(map(float, Y.split(\",\")))[1::2] #imaginary part\n",
    "\n",
    "y = [x+y*1j for x, y in  zip(y0,y1)] # make complex value from Re and Im\n",
    "r = np.array(list(map(abs,y)))#get absolute values\n",
    "theta = np.array(list(map(cmath.phase,y)))#get phases\n",
    "# print(theta)\n",
    "R = 10*np.log10(r**2)# R mW -> dbm\n",
    "plt.plot(x, R)\n",
    "#plt.yscale(\"log\")"
   ]
  },
  {
   "cell_type": "code",
   "execution_count": 334,
   "metadata": {},
   "outputs": [
    {
     "data": {
      "text/plain": [
       "10"
      ]
     },
     "execution_count": 334,
     "metadata": {},
     "output_type": "execute_result"
    }
   ],
   "source": [
    "SendAna(\"INIT:IMM\")#Stop all sweep"
   ]
  },
  {
   "cell_type": "code",
   "execution_count": 335,
   "metadata": {},
   "outputs": [
    {
     "data": {
      "text/plain": [
       "10"
      ]
     },
     "execution_count": 335,
     "metadata": {},
     "output_type": "execute_result"
    }
   ],
   "source": [
    "# SendAna(\"SOUR:POW1:MODE OFF\")\n",
    "SendAna(\"OUTP OFF\")\n"
   ]
  },
  {
   "cell_type": "code",
   "execution_count": 8,
   "metadata": {},
   "outputs": [],
   "source": [
    "SendAna(\"DISPlay:WINDow1:TRACe1:FEED 'MyMeas'\")"
   ]
  },
  {
   "cell_type": "code",
   "execution_count": 30,
   "metadata": {},
   "outputs": [],
   "source": [
    "SendAna(\"SENS:FREQ:START 1e9\")\n",
    "SendAna(\"SENS:FREQ:END 2e9\")\n",
    "SendAna(\"SENS:FOM:RANG3:FREQ:OFFS 1e9\")\n",
    "SendAna(\"SENS:OFFS ON\")"
   ]
  },
  {
   "attachments": {},
   "cell_type": "markdown",
   "metadata": {},
   "source": [
    "### 完成"
   ]
  },
  {
   "cell_type": "code",
   "execution_count": 237,
   "metadata": {},
   "outputs": [
    {
     "data": {
      "text/plain": [
       "39"
      ]
     },
     "execution_count": 237,
     "metadata": {},
     "output_type": "execute_result"
    }
   ],
   "source": [
    "SendAna(\"SYST:FPReset\")\n",
    "SendAna(\"DISPlay:WINDow1:STATE ON\")\n",
    "SendAna(\"DISPlay:WINDow2:STATE ON\")\n",
    "\n",
    "SendAna(\"CALCulate1:PARameter:DEFine 'MyMeas1',S12\")\n",
    "SendAna(\"DISPlay:WINDow1:TRACe1:Y:PDIV 1 'MyMeas1'\")\n",
    "SendAna(\"CALCulate2:PARameter:DEFine 'MyMeas2',S21\")\n",
    "SendAna(\"DISPlay:WINDow2:TRACe2:Y:PDIV 1 'MyMeas2'\")\n",
    "\n",
    "SendAna(\"SNESe1:FREQuency:STARt 100000000\")\n",
    "SendAna(\"SNESe1:FREQuency:STOP 200000000\")\n",
    "SendAna(\"SNESe2:FREQuency:STARt 100000000\")\n",
    "SendAna(\"SNESe2:FREQuency:STOP 200000000\")\n",
    "\n",
    "SendAna(\"DISPlay:WINDow1:TRACe1:FEED 'MyMeas1'\")#shows graph result in window\n",
    "SendAna(\"DISPlay:WINDow2:TRACe2:FEED 'MyMeas2'\")#shows graph result in window\n",
    "\n",
    "\n",
    "# SendAna(\"DISPlay:WINDow2:STATE ON\")\n",
    "# SendAna(\"CALCulate2:PARameter:DEFine 'MyMeas2',S21\")\n",
    "# SendAna(\"DISPlay:WINDow2:TRACe2:FEED 'MyMeas2'\")\n",
    "# SendAna(\"DISPlay:WINDow1:TRACe1:Y:AUTO 'MyMeas1'\")\n",
    "\n",
    "\n",
    "\n",
    "\n",
    "\n",
    "# SendAna(\"SENS1:FREQ:START 1e8\")\n",
    "# SendAna(\"SENS1:FREQ:END 1e9\")\n",
    "\n",
    "# SendAna(\"SENS2:FREQ:START 1e8\")\n",
    "# SendAna(\"SENS2:FREQ:END 1e9\")\n",
    "\n",
    "\n"
   ]
  },
  {
   "cell_type": "markdown",
   "metadata": {},
   "source": []
  },
  {
   "cell_type": "code",
   "execution_count": 32,
   "metadata": {},
   "outputs": [],
   "source": [
    "SendAna(\"SENS1:SWE:TIME 2\")\n",
    "SendAna(\"SENS2:SWE:TIME 2\")\n",
    "SendAna(\"SENS1:SWE:POIN 10\")\n",
    "SendAna(\"SENS2:SWE:POIN 10\")\n",
    "\n",
    "SendAna(\"SENS1:SWE:MODE HOLD\")\n",
    "SendAna(\"SENS2:SWE:MODE HOLD\")"
   ]
  },
  {
   "cell_type": "code",
   "execution_count": 69,
   "metadata": {},
   "outputs": [
    {
     "data": {
      "text/plain": [
       "6"
      ]
     },
     "execution_count": 69,
     "metadata": {},
     "output_type": "execute_result"
    }
   ],
   "source": [
    "SendAna(\"*RST\")"
   ]
  },
  {
   "cell_type": "code",
   "execution_count": 78,
   "metadata": {},
   "outputs": [
    {
     "data": {
      "text/plain": [
       "'+1.00000000000E+009\\n'"
      ]
     },
     "execution_count": 78,
     "metadata": {},
     "output_type": "execute_result"
    }
   ],
   "source": [
    "SendAna(\"SENS1:FREQ:STAR 1000000000Hz\")\n",
    "SendAna(\"SENS1:FREQuency:STOP 2000000000Hz\")\n",
    "\n",
    "netana.query(\"SENS1:FREQ:STAR?\")\n",
    "# netana.query(\"SENS1:FREQ:STOP?\")"
   ]
  },
  {
   "cell_type": "code",
   "execution_count": 74,
   "metadata": {},
   "outputs": [
    {
     "data": {
      "text/plain": [
       "18"
      ]
     },
     "execution_count": 74,
     "metadata": {},
     "output_type": "execute_result"
    }
   ],
   "source": [
    "# SendAna(\"CALC:PAR:DEL 'MyMeas1'\")\n",
    "\n",
    "# netana.query(\"SENS1:FREQ:STAR?\")\n",
    "# netana.query(\"SENS1:FREQ:STOP?\")"
   ]
  },
  {
   "cell_type": "code",
   "execution_count": 8,
   "metadata": {},
   "outputs": [
    {
     "data": {
      "text/plain": [
       "\"haku'1'\""
      ]
     },
     "execution_count": 8,
     "metadata": {},
     "output_type": "execute_result"
    }
   ],
   "source": [
    "n=\"1\"\n",
    "a=f\"haku'{n}'\"\n",
    "a"
   ]
  },
  {
   "cell_type": "code",
   "execution_count": null,
   "metadata": {},
   "outputs": [],
   "source": []
  },
  {
   "cell_type": "code",
   "execution_count": 223,
   "metadata": {},
   "outputs": [
    {
     "data": {
      "text/plain": [
       "'+1.00000000000E-001\\n'"
      ]
     },
     "execution_count": 223,
     "metadata": {},
     "output_type": "execute_result"
    }
   ],
   "source": [
    "\n"
   ]
  },
  {
   "cell_type": "code",
   "execution_count": 198,
   "metadata": {},
   "outputs": [],
   "source": [
    "\n"
   ]
  },
  {
   "cell_type": "code",
   "execution_count": 199,
   "metadata": {},
   "outputs": [
    {
     "data": {
      "text/plain": [
       "['+7.68147900000E-004',\n",
       " '-1.05043200000E-003',\n",
       " '+5.30028500000E-004',\n",
       " '-7.54989700000E-004',\n",
       " '-1.06744800000E-003',\n",
       " '-7.99614400000E-004',\n",
       " '-1.63114100000E-003',\n",
       " '+5.18653100000E-005',\n",
       " '-7.69450100000E-004',\n",
       " '+1.16828300000E-003',\n",
       " '+6.40999800000E-004',\n",
       " '+1.37053800000E-003',\n",
       " '+1.04961100000E-003',\n",
       " '+1.10874000000E-003',\n",
       " '+1.71527500000E-003',\n",
       " '-2.93105300000E-004',\n",
       " '+9.29208900000E-004',\n",
       " '-1.74072900000E-003',\n",
       " '-1.80605200000E-004',\n",
       " '-1.96793900000E-003',\n",
       " '-1.50037700000E-003',\n",
       " '-6.81913500000E-004',\n",
       " '-1.87206200000E-003',\n",
       " '+8.86731400000E-004',\n",
       " '-3.05774400000E-004',\n",
       " '+2.08853600000E-003',\n",
       " '+4.91644300000E-004',\n",
       " '+1.16591500000E-003',\n",
       " '+1.61454000000E-003',\n",
       " '+2.77068200000E-004',\n",
       " '+1.63699300000E-003',\n",
       " '-5.50175000000E-004',\n",
       " '+8.15351100000E-004',\n",
       " '-1.05857600000E-003',\n",
       " '-2.39138500000E-004',\n",
       " '-1.33134900000E-003',\n",
       " '-1.43896700000E-003',\n",
       " '-1.11670900000E-003',\n",
       " '-1.91300000000E-003',\n",
       " '-1.87426300000E-004',\n",
       " '-3.35293500000E-004',\n",
       " '+1.24173800000E-003',\n",
       " '+4.43630100000E-005',\n",
       " '+2.28623000000E-003',\n",
       " '+1.68113600000E-003',\n",
       " '+1.29271000000E-003',\n",
       " '+1.13784200000E-003',\n",
       " '-9.56358600000E-004',\n",
       " '+1.32367400000E-003',\n",
       " '-1.52244200000E-003',\n",
       " '-5.64709700000E-004',\n",
       " '-2.33757800000E-003',\n",
       " '-1.03054000000E-003',\n",
       " '-1.05254700000E-003',\n",
       " '-1.90779100000E-003',\n",
       " '+1.02793200000E-003',\n",
       " '-1.00847000000E-003',\n",
       " '+1.63559400000E-003',\n",
       " '-9.70974300000E-005',\n",
       " '+2.12701400000E-003',\n",
       " '+1.89559000000E-003',\n",
       " '-7.62556900000E-004',\n",
       " '+1.56342400000E-003',\n",
       " '+1.74475700000E-004',\n",
       " '+1.25269300000E-003',\n",
       " '-1.68029200000E-003',\n",
       " '-1.42524700000E-003',\n",
       " '-2.72281100000E-004',\n",
       " '-1.80724800000E-003',\n",
       " '-1.07057400000E-003',\n",
       " '-8.51756300000E-004',\n",
       " '+2.00693400000E-003',\n",
       " '-1.00325700000E-003',\n",
       " '-6.08288500000E-004',\n",
       " '+5.24697400000E-003',\n",
       " '+1.07332000000E-004',\n",
       " '-6.92522600000E-004',\n",
       " '-1.54416400000E-003',\n",
       " '+3.88136800000E-003',\n",
       " '-1.09877900000E-003',\n",
       " '-2.09783100000E-002',\n",
       " '+1.06950800000E-003',\n",
       " '+4.55932500000E-003',\n",
       " '-4.06912800000E-003',\n",
       " '-4.72604600000E-002',\n",
       " '+9.51558500000E-002',\n",
       " '-2.66495600000E-001',\n",
       " '+1.16991400000E-001',\n",
       " '-6.14183200000E-002',\n",
       " '+3.70982500000E-002',\n",
       " '+4.77937600000E-002',\n",
       " '-8.80413600000E-003',\n",
       " '-6.42369300000E-004',\n",
       " '+6.06476400000E-003',\n",
       " '-2.52479800000E-003',\n",
       " '-8.51291600000E-003',\n",
       " '-1.66789500000E-004',\n",
       " '+4.28894300000E-003',\n",
       " '-1.69633800000E-003',\n",
       " '+1.21805000000E-004',\n",
       " '+2.32405000000E-003',\n",
       " '+1.23143400000E-004',\n",
       " '-1.45747000000E-003',\n",
       " '-1.97600100000E-003',\n",
       " '+8.13189800000E-004',\n",
       " '-2.30918500000E-003',\n",
       " '-2.16500200000E-003',\n",
       " '+6.49014300000E-004',\n",
       " '-4.98915200000E-004',\n",
       " '+1.29493300000E-003',\n",
       " '-1.21448700000E-004',\n",
       " '+2.86428200000E-003',\n",
       " '+9.71193300000E-004',\n",
       " '+5.63185100000E-004',\n",
       " '+1.64778500000E-003',\n",
       " '-1.94190300000E-004',\n",
       " '+7.73836700000E-004',\n",
       " '-1.64546400000E-003',\n",
       " '+6.18395500000E-004',\n",
       " '-1.72518600000E-003',\n",
       " '-1.28364500000E-003',\n",
       " '-1.02333700000E-003',\n",
       " '-1.40298300000E-003',\n",
       " '-6.91263600000E-005',\n",
       " '-1.77866900000E-003',\n",
       " '+1.81732900000E-003',\n",
       " '-3.70439600000E-005',\n",
       " '+1.46105600000E-003',\n",
       " '+8.17995900000E-004',\n",
       " '+1.03881600000E-003',\n",
       " '+1.47600600000E-003',\n",
       " '+1.80215300000E-004',\n",
       " '+1.61539600000E-003',\n",
       " '-1.00661800000E-003',\n",
       " '+4.99906000000E-004',\n",
       " '-1.36755400000E-003',\n",
       " '-6.99687100000E-004',\n",
       " '-1.80093700000E-003',\n",
       " '-1.95524100000E-003',\n",
       " '+5.91373700000E-006',\n",
       " '-1.53476100000E-003',\n",
       " '+1.58103200000E-003',\n",
       " '+6.46003500000E-004',\n",
       " '+1.93920100000E-003',\n",
       " '+1.18917200000E-003',\n",
       " '+2.81328900000E-004',\n",
       " '+1.28898900000E-003',\n",
       " '+1.29445900000E-004',\n",
       " '+1.98970400000E-003',\n",
       " '-6.48647800000E-004',\n",
       " '+1.69587700000E-003',\n",
       " '-1.86686600000E-003',\n",
       " '+6.69467100000E-004',\n",
       " '-2.69774000000E-003',\n",
       " '-6.69467800000E-004',\n",
       " '-2.42856900000E-003',\n",
       " '-1.26296700000E-003',\n",
       " '-1.10299400000E-003',\n",
       " '-4.66044800000E-004',\n",
       " '-2.07753100000E-005',\n",
       " '+6.44051700000E-004',\n",
       " '+6.88431500000E-004',\n",
       " '+1.94345600000E-003',\n",
       " '-2.95479400000E-004',\n",
       " '+5.90691000000E-004',\n",
       " '-2.22269500000E-003',\n",
       " '-2.17310000000E-003',\n",
       " '-1.37903600000E-003',\n",
       " '-3.22903200000E-003',\n",
       " '-5.16493900000E-004',\n",
       " '-3.59911100000E-003',\n",
       " '+3.79891800000E-004',\n",
       " '-3.84809400000E-003',\n",
       " '+1.74645100000E-003',\n",
       " '-2.92937300000E-003',\n",
       " '+3.66603800000E-003',\n",
       " '-1.68045000000E-003',\n",
       " '+5.24862200000E-003',\n",
       " '-3.99377400000E-004',\n",
       " '+5.09291200000E-003',\n",
       " '+1.85464700000E-003',\n",
       " '+4.21022400000E-003',\n",
       " '+1.43083700000E-003',\n",
       " '+3.21429800000E-003',\n",
       " '+1.40682700000E-003',\n",
       " '+1.95404100000E-003',\n",
       " '+3.63409800000E-004',\n",
       " '+2.10522200000E-003',\n",
       " '-1.38516100000E-003',\n",
       " '+1.56622400000E-003',\n",
       " '-7.23622000000E-004',\n",
       " '+3.22526400000E-003',\n",
       " '-2.67360900000E-003',\n",
       " '+4.83802800000E-003',\n",
       " '+7.17041800000E-004',\n",
       " '+3.29399900000E-003',\n",
       " '-4.38715100000E-004',\n",
       " '+6.51343500000E-003',\n",
       " '+9.66657800000E-004',\n",
       " '+3.25921900000E-005',\n",
       " '+1.05415800000E-003',\n",
       " '+4.99278200000E-003',\n",
       " '-3.05992400000E-003',\n",
       " '-3.12984200000E-003\\n']"
      ]
     },
     "execution_count": 199,
     "metadata": {},
     "output_type": "execute_result"
    }
   ],
   "source": []
  },
  {
   "cell_type": "code",
   "execution_count": 222,
   "metadata": {},
   "outputs": [
    {
     "name": "stdout",
     "output_type": "stream",
     "text": [
      "[-0.93939151 -0.95870651 -2.49867433  3.10980641  2.1532048   1.13332146\n",
      "  0.81278676 -0.16924481 -1.08047228 -1.66231375 -2.71500717  2.69923362\n",
      "  1.71616961  1.17174019  0.16995271 -0.32422841 -0.9144708  -1.74852233\n",
      " -2.48162751 -3.04392929  1.83452636  1.55139432  0.65551938 -0.69895414\n",
      " -0.85512329 -1.80783375 -2.34563027  2.64738316  2.12331587  1.6164143\n",
      " -0.38246987  0.11113859 -0.93016794 -2.95282584 -2.6067964   1.97216436\n",
      " -2.59654363  0.02045313 -1.99238331 -0.27587236  3.09065514 -0.72864748\n",
      "  2.03177136  2.72792442  2.59821826 -0.18216876  1.67632115 -1.8591166\n",
      "  1.60966499  3.069911    0.05293705 -2.2063048  -1.23220346  2.85034194\n",
      "  1.9385513   1.61317204  0.52550134 -0.11730821 -1.1312022  -1.22661227\n",
      " -2.46855412 -3.09236148  2.34544406  1.59614513  0.90376655  0.12149524\n",
      " -0.55726073 -1.22033839 -1.9413609   3.13856811  2.34134511  1.24922996\n",
      "  0.23230443  0.1000888  -0.31513805 -0.833355   -1.32755159 -1.83977927\n",
      " -2.42370612 -3.09704422  0.81869194 -0.15088262 -1.31104582 -2.57612408\n",
      " -2.98298305  3.03643048  2.71554307  2.24496195  1.88065325  1.64905445\n",
      "  1.15586201  1.15198499  0.94680109  1.39985793  2.2949228   1.79150205\n",
      "  2.07565167  1.3564588   1.63805016  0.0337036   1.36271598 -2.34489923]\n"
     ]
    },
    {
     "data": {
      "text/plain": [
       "[<matplotlib.lines.Line2D at 0x175876ef5e0>]"
      ]
     },
     "execution_count": 222,
     "metadata": {},
     "output_type": "execute_result"
    },
    {
     "data": {
      "image/png": "[encoded data removed]",
      "text/plain": [
       "<Figure size 640x480 with 1 Axes>"
      ]
     },
     "metadata": {},
     "output_type": "display_data"
    }
   ],
   "source": []
  },
  {
   "cell_type": "code",
   "execution_count": null,
   "metadata": {},
   "outputs": [],
   "source": []
  },
  {
   "cell_type": "code",
   "execution_count": 143,
   "metadata": {},
   "outputs": [
    {
     "ename": "VisaIOError",
     "evalue": "VI_ERROR_TMO (-1073807339): Timeout expired before operation completed.",
     "output_type": "error",
     "traceback": [
      "\u001b[1;31m---------------------------------------------------------------------------\u001b[0m",
      "\u001b[1;31mVisaIOError\u001b[0m                               Traceback (most recent call last)",
      "Cell \u001b[1;32mIn[143], line 4\u001b[0m\n\u001b[0;32m      2\u001b[0m SendAna(\u001b[39m\"\u001b[39m\u001b[39mFORM:BORD \u001b[39m\u001b[39m'\u001b[39m\u001b[39mASCII\u001b[39m\u001b[39m'\u001b[39m\u001b[39m\"\u001b[39m)\n\u001b[0;32m      3\u001b[0m netana\u001b[39m.\u001b[39mwrite(\u001b[39m\"\u001b[39m\u001b[39mCALC1:DATA:CUST \u001b[39m\u001b[39m'\u001b[39m\u001b[39mresult\u001b[39m\u001b[39m'\u001b[39m\u001b[39m\"\u001b[39m)\n\u001b[1;32m----> 4\u001b[0m netana\u001b[39m.\u001b[39;49mread(\u001b[39m\"\u001b[39;49m\u001b[39mCALC1:DATA:CUST? \u001b[39;49m\u001b[39m'\u001b[39;49m\u001b[39mresult\u001b[39;49m\u001b[39m'\u001b[39;49m\u001b[39m\"\u001b[39;49m)\n",
      "File \u001b[1;32mc:\\Users\\Ando_lab\\anaconda3\\envs\\pymeasure_env\\lib\\site-packages\\pyvisa\\resources\\messagebased.py:489\u001b[0m, in \u001b[0;36mMessageBasedResource.read\u001b[1;34m(self, termination, encoding)\u001b[0m\n\u001b[0;32m    487\u001b[0m \u001b[39melse\u001b[39;00m:\n\u001b[0;32m    488\u001b[0m     \u001b[39mwith\u001b[39;00m \u001b[39mself\u001b[39m\u001b[39m.\u001b[39mread_termination_context(termination):\n\u001b[1;32m--> 489\u001b[0m         message \u001b[39m=\u001b[39m \u001b[39mself\u001b[39;49m\u001b[39m.\u001b[39;49m_read_raw()\u001b[39m.\u001b[39mdecode(enco)\n\u001b[0;32m    491\u001b[0m \u001b[39mif\u001b[39;00m \u001b[39mnot\u001b[39;00m termination:\n\u001b[0;32m    492\u001b[0m     \u001b[39mreturn\u001b[39;00m message\n",
      "File \u001b[1;32mc:\\Users\\Ando_lab\\anaconda3\\envs\\pymeasure_env\\lib\\site-packages\\pyvisa\\resources\\messagebased.py:442\u001b[0m, in \u001b[0;36mMessageBasedResource._read_raw\u001b[1;34m(self, size)\u001b[0m\n\u001b[0;32m    435\u001b[0m     \u001b[39mwhile\u001b[39;00m status \u001b[39m==\u001b[39m loop_status:\n\u001b[0;32m    436\u001b[0m         logger\u001b[39m.\u001b[39mdebug(\n\u001b[0;32m    437\u001b[0m             \u001b[39m\"\u001b[39m\u001b[39m%s\u001b[39;00m\u001b[39m - reading \u001b[39m\u001b[39m%d\u001b[39;00m\u001b[39m bytes (last status \u001b[39m\u001b[39m%r\u001b[39;00m\u001b[39m)\u001b[39m\u001b[39m\"\u001b[39m,\n\u001b[0;32m    438\u001b[0m             \u001b[39mself\u001b[39m\u001b[39m.\u001b[39m_resource_name,\n\u001b[0;32m    439\u001b[0m             size,\n\u001b[0;32m    440\u001b[0m             status,\n\u001b[0;32m    441\u001b[0m         )\n\u001b[1;32m--> 442\u001b[0m         chunk, status \u001b[39m=\u001b[39m \u001b[39mself\u001b[39;49m\u001b[39m.\u001b[39;49mvisalib\u001b[39m.\u001b[39;49mread(\u001b[39mself\u001b[39;49m\u001b[39m.\u001b[39;49msession, size)\n\u001b[0;32m    443\u001b[0m         ret\u001b[39m.\u001b[39mextend(chunk)\n\u001b[0;32m    444\u001b[0m \u001b[39mexcept\u001b[39;00m errors\u001b[39m.\u001b[39mVisaIOError \u001b[39mas\u001b[39;00m e:\n",
      "File \u001b[1;32mc:\\Users\\Ando_lab\\anaconda3\\envs\\pymeasure_env\\lib\\site-packages\\pyvisa\\ctwrapper\\functions.py:2337\u001b[0m, in \u001b[0;36mread\u001b[1;34m(library, session, count)\u001b[0m\n\u001b[0;32m   2335\u001b[0m buffer \u001b[39m=\u001b[39m create_string_buffer(count)\n\u001b[0;32m   2336\u001b[0m return_count \u001b[39m=\u001b[39m ViUInt32()\n\u001b[1;32m-> 2337\u001b[0m ret \u001b[39m=\u001b[39m library\u001b[39m.\u001b[39;49mviRead(session, buffer, count, byref(return_count))\n\u001b[0;32m   2338\u001b[0m \u001b[39mreturn\u001b[39;00m buffer\u001b[39m.\u001b[39mraw[: return_count\u001b[39m.\u001b[39mvalue], ret\n",
      "File \u001b[1;32mc:\\Users\\Ando_lab\\anaconda3\\envs\\pymeasure_env\\lib\\site-packages\\pyvisa\\ctwrapper\\highlevel.py:226\u001b[0m, in \u001b[0;36mIVIVisaLibrary._return_handler\u001b[1;34m(self, ret_value, func, arguments)\u001b[0m\n\u001b[0;32m    223\u001b[0m         \u001b[39m# Set session back to a safe value\u001b[39;00m\n\u001b[0;32m    224\u001b[0m         session \u001b[39m=\u001b[39m \u001b[39mNone\u001b[39;00m\n\u001b[1;32m--> 226\u001b[0m \u001b[39mreturn\u001b[39;00m \u001b[39mself\u001b[39;49m\u001b[39m.\u001b[39;49mhandle_return_value(session, ret_value)\n",
      "File \u001b[1;32mc:\\Users\\Ando_lab\\anaconda3\\envs\\pymeasure_env\\lib\\site-packages\\pyvisa\\highlevel.py:251\u001b[0m, in \u001b[0;36mVisaLibraryBase.handle_return_value\u001b[1;34m(self, session, status_code)\u001b[0m\n\u001b[0;32m    248\u001b[0m     \u001b[39mself\u001b[39m\u001b[39m.\u001b[39m_last_status_in_session[session] \u001b[39m=\u001b[39m rv\n\u001b[0;32m    250\u001b[0m \u001b[39mif\u001b[39;00m rv \u001b[39m<\u001b[39m \u001b[39m0\u001b[39m:\n\u001b[1;32m--> 251\u001b[0m     \u001b[39mraise\u001b[39;00m errors\u001b[39m.\u001b[39mVisaIOError(rv)\n\u001b[0;32m    253\u001b[0m \u001b[39mif\u001b[39;00m rv \u001b[39min\u001b[39;00m \u001b[39mself\u001b[39m\u001b[39m.\u001b[39missue_warning_on:\n\u001b[0;32m    254\u001b[0m     \u001b[39mif\u001b[39;00m session \u001b[39mand\u001b[39;00m rv \u001b[39mnot\u001b[39;00m \u001b[39min\u001b[39;00m \u001b[39mself\u001b[39m\u001b[39m.\u001b[39m_ignore_warning_in_session[session]:\n",
      "\u001b[1;31mVisaIOError\u001b[0m: VI_ERROR_TMO (-1073807339): Timeout expired before operation completed."
     ]
    }
   ],
   "source": [
    "SendAna(\"CALC1:PAR:SEL 'MyMeas1'\")\n",
    "SendAna(\"FORM:BORD 'ASCII'\")\n",
    "netana.write(\"CALC1:DATA:CUST 'result'\")\n",
    "netana.read(\"CALC1:DATA:CUST? 'result'\")"
   ]
  },
  {
   "cell_type": "code",
   "execution_count": 12,
   "metadata": {},
   "outputs": [
    {
     "ename": "VisaIOError",
     "evalue": "VI_ERROR_TMO (-1073807339): Timeout expired before operation completed.",
     "output_type": "error",
     "traceback": [
      "\u001b[1;31m---------------------------------------------------------------------------\u001b[0m",
      "\u001b[1;31mVisaIOError\u001b[0m                               Traceback (most recent call last)",
      "Cell \u001b[1;32mIn[12], line 1\u001b[0m\n\u001b[1;32m----> 1\u001b[0m netana\u001b[39m.\u001b[39;49mquery(\u001b[39m\"\u001b[39;49m\u001b[39mCALC1:DATA?\u001b[39;49m\u001b[39m\"\u001b[39;49m)\u001b[39m#これが意味わからん\u001b[39;00m\n",
      "File \u001b[1;32mc:\\Users\\Ando_lab\\anaconda3\\envs\\pymeasure_env\\lib\\site-packages\\pyvisa\\resources\\messagebased.py:648\u001b[0m, in \u001b[0;36mMessageBasedResource.query\u001b[1;34m(self, message, delay)\u001b[0m\n\u001b[0;32m    645\u001b[0m \u001b[39mif\u001b[39;00m delay \u001b[39m>\u001b[39m \u001b[39m0.0\u001b[39m:\n\u001b[0;32m    646\u001b[0m     time\u001b[39m.\u001b[39msleep(delay)\n\u001b[1;32m--> 648\u001b[0m \u001b[39mreturn\u001b[39;00m \u001b[39mself\u001b[39;49m\u001b[39m.\u001b[39;49mread()\n",
      "File \u001b[1;32mc:\\Users\\Ando_lab\\anaconda3\\envs\\pymeasure_env\\lib\\site-packages\\pyvisa\\resources\\messagebased.py:486\u001b[0m, in \u001b[0;36mMessageBasedResource.read\u001b[1;34m(self, termination, encoding)\u001b[0m\n\u001b[0;32m    484\u001b[0m \u001b[39mif\u001b[39;00m termination \u001b[39mis\u001b[39;00m \u001b[39mNone\u001b[39;00m:\n\u001b[0;32m    485\u001b[0m     termination \u001b[39m=\u001b[39m \u001b[39mself\u001b[39m\u001b[39m.\u001b[39m_read_termination\n\u001b[1;32m--> 486\u001b[0m     message \u001b[39m=\u001b[39m \u001b[39mself\u001b[39;49m\u001b[39m.\u001b[39;49m_read_raw()\u001b[39m.\u001b[39mdecode(enco)\n\u001b[0;32m    487\u001b[0m \u001b[39melse\u001b[39;00m:\n\u001b[0;32m    488\u001b[0m     \u001b[39mwith\u001b[39;00m \u001b[39mself\u001b[39m\u001b[39m.\u001b[39mread_termination_context(termination):\n",
      "File \u001b[1;32mc:\\Users\\Ando_lab\\anaconda3\\envs\\pymeasure_env\\lib\\site-packages\\pyvisa\\resources\\messagebased.py:442\u001b[0m, in \u001b[0;36mMessageBasedResource._read_raw\u001b[1;34m(self, size)\u001b[0m\n\u001b[0;32m    435\u001b[0m     \u001b[39mwhile\u001b[39;00m status \u001b[39m==\u001b[39m loop_status:\n\u001b[0;32m    436\u001b[0m         logger\u001b[39m.\u001b[39mdebug(\n\u001b[0;32m    437\u001b[0m             \u001b[39m\"\u001b[39m\u001b[39m%s\u001b[39;00m\u001b[39m - reading \u001b[39m\u001b[39m%d\u001b[39;00m\u001b[39m bytes (last status \u001b[39m\u001b[39m%r\u001b[39;00m\u001b[39m)\u001b[39m\u001b[39m\"\u001b[39m,\n\u001b[0;32m    438\u001b[0m             \u001b[39mself\u001b[39m\u001b[39m.\u001b[39m_resource_name,\n\u001b[0;32m    439\u001b[0m             size,\n\u001b[0;32m    440\u001b[0m             status,\n\u001b[0;32m    441\u001b[0m         )\n\u001b[1;32m--> 442\u001b[0m         chunk, status \u001b[39m=\u001b[39m \u001b[39mself\u001b[39;49m\u001b[39m.\u001b[39;49mvisalib\u001b[39m.\u001b[39;49mread(\u001b[39mself\u001b[39;49m\u001b[39m.\u001b[39;49msession, size)\n\u001b[0;32m    443\u001b[0m         ret\u001b[39m.\u001b[39mextend(chunk)\n\u001b[0;32m    444\u001b[0m \u001b[39mexcept\u001b[39;00m errors\u001b[39m.\u001b[39mVisaIOError \u001b[39mas\u001b[39;00m e:\n",
      "File \u001b[1;32mc:\\Users\\Ando_lab\\anaconda3\\envs\\pymeasure_env\\lib\\site-packages\\pyvisa\\ctwrapper\\functions.py:2337\u001b[0m, in \u001b[0;36mread\u001b[1;34m(library, session, count)\u001b[0m\n\u001b[0;32m   2335\u001b[0m buffer \u001b[39m=\u001b[39m create_string_buffer(count)\n\u001b[0;32m   2336\u001b[0m return_count \u001b[39m=\u001b[39m ViUInt32()\n\u001b[1;32m-> 2337\u001b[0m ret \u001b[39m=\u001b[39m library\u001b[39m.\u001b[39;49mviRead(session, buffer, count, byref(return_count))\n\u001b[0;32m   2338\u001b[0m \u001b[39mreturn\u001b[39;00m buffer\u001b[39m.\u001b[39mraw[: return_count\u001b[39m.\u001b[39mvalue], ret\n",
      "File \u001b[1;32mc:\\Users\\Ando_lab\\anaconda3\\envs\\pymeasure_env\\lib\\site-packages\\pyvisa\\ctwrapper\\highlevel.py:226\u001b[0m, in \u001b[0;36mIVIVisaLibrary._return_handler\u001b[1;34m(self, ret_value, func, arguments)\u001b[0m\n\u001b[0;32m    223\u001b[0m         \u001b[39m# Set session back to a safe value\u001b[39;00m\n\u001b[0;32m    224\u001b[0m         session \u001b[39m=\u001b[39m \u001b[39mNone\u001b[39;00m\n\u001b[1;32m--> 226\u001b[0m \u001b[39mreturn\u001b[39;00m \u001b[39mself\u001b[39;49m\u001b[39m.\u001b[39;49mhandle_return_value(session, ret_value)\n",
      "File \u001b[1;32mc:\\Users\\Ando_lab\\anaconda3\\envs\\pymeasure_env\\lib\\site-packages\\pyvisa\\highlevel.py:251\u001b[0m, in \u001b[0;36mVisaLibraryBase.handle_return_value\u001b[1;34m(self, session, status_code)\u001b[0m\n\u001b[0;32m    248\u001b[0m     \u001b[39mself\u001b[39m\u001b[39m.\u001b[39m_last_status_in_session[session] \u001b[39m=\u001b[39m rv\n\u001b[0;32m    250\u001b[0m \u001b[39mif\u001b[39;00m rv \u001b[39m<\u001b[39m \u001b[39m0\u001b[39m:\n\u001b[1;32m--> 251\u001b[0m     \u001b[39mraise\u001b[39;00m errors\u001b[39m.\u001b[39mVisaIOError(rv)\n\u001b[0;32m    253\u001b[0m \u001b[39mif\u001b[39;00m rv \u001b[39min\u001b[39;00m \u001b[39mself\u001b[39m\u001b[39m.\u001b[39missue_warning_on:\n\u001b[0;32m    254\u001b[0m     \u001b[39mif\u001b[39;00m session \u001b[39mand\u001b[39;00m rv \u001b[39mnot\u001b[39;00m \u001b[39min\u001b[39;00m \u001b[39mself\u001b[39m\u001b[39m.\u001b[39m_ignore_warning_in_session[session]:\n",
      "\u001b[1;31mVisaIOError\u001b[0m: VI_ERROR_TMO (-1073807339): Timeout expired before operation completed."
     ]
    }
   ],
   "source": [
    "netana.query(\"CALC1:DATA?\")#これが意味わからん"
   ]
  },
  {
   "cell_type": "code",
   "execution_count": 114,
   "metadata": {},
   "outputs": [
    {
     "data": {
      "text/plain": [
       "'NORM\\n'"
      ]
     },
     "execution_count": 114,
     "metadata": {},
     "output_type": "execute_result"
    }
   ],
   "source": [
    "SendAna(\"FORM:BORD 'ASCII'\")\n",
    "netana.query(\"FORM:BORD?\")"
   ]
  },
  {
   "cell_type": "code",
   "execution_count": 53,
   "metadata": {},
   "outputs": [
    {
     "data": {
      "text/plain": [
       "'+0.00000000000E+000\\n'"
      ]
     },
     "execution_count": 53,
     "metadata": {},
     "output_type": "execute_result"
    }
   ],
   "source": [
    "netana.query(\"SOUR1:POW1?\")\n"
   ]
  },
  {
   "cell_type": "code",
   "execution_count": 127,
   "metadata": {},
   "outputs": [
    {
     "data": {
      "text/plain": [
       "'\"MyMeas1,S21\"\\n'"
      ]
     },
     "execution_count": 127,
     "metadata": {},
     "output_type": "execute_result"
    }
   ],
   "source": [
    "netana.query(\"CALC1:PAR:CAT?\")"
   ]
  },
  {
   "cell_type": "code",
   "execution_count": null,
   "metadata": {},
   "outputs": [],
   "source": [
    "\n",
    "#電源の電圧を計測\n",
    "# max_volt = ADCMT.query('MEAS:VOLT?')\n",
    "\n",
    "# queryを使わない方法\n",
    "nanovol.write(\":SENSe:FUNCtion 'VOLTage:DC'\")\n",
    "\n",
    "nanovol.write(\":SENS:FUNC 'VOLT'\")\n",
    "#keithley2182A.write(\"*RST\")\n",
    "nanovol.write(\":DISPlay:ENABle ON\")\n",
    "nanovol.write(\":SENSe:VOLTage:NPLCycles 1\") # medium\n",
    "nanovol.write(\":SENSe:VOLTage:DFILter 0\") # digital filter off\n",
    "for i in range(0,5):\n",
    "    nanovol.write(\":READ?\")\n",
    "    print(float(nanovol.read()))\n"
   ]
  },
  {
   "cell_type": "code",
   "execution_count": null,
   "metadata": {},
   "outputs": [],
   "source": []
  },
  {
   "attachments": {},
   "cell_type": "markdown",
   "metadata": {},
   "source": [
    "## Graphical plot"
   ]
  },
  {
   "cell_type": "code",
   "execution_count": null,
   "metadata": {},
   "outputs": [],
   "source": [
    "import logging\n",
    "log = logging.getLogger(__name__)\n",
    "log.addHandler(logging.NullHandler())\n",
    "\n",
    "import random\n",
    "from time import sleep\n",
    "from pymeasure.log import console_log\n",
    "from pymeasure.display import Plotter\n",
    "from pymeasure.experiment import Procedure, Results, Worker\n",
    "from pymeasure.experiment import IntegerParameter, FloatParameter, Parameter\n",
    "\n",
    "\n",
    "\n",
    "class RandomProcedure(Procedure):\n",
    "\n",
    "    iterations = IntegerParameter('Loop Iterations')\n",
    "    delay = FloatParameter('Delay Time', units='s', default=0.2)\n",
    "    seed = Parameter('Random Seed', default='12345')\n",
    "\n",
    "    DATA_COLUMNS = ['Iteration', 'Random Number']\n",
    "\n",
    "    def startup(self):\n",
    "        log.info(\"Setting the seed of the random number generator\")\n",
    "        random.seed(self.seed)\n",
    "\n",
    "    def execute(self):\n",
    "        log.info(\"Starting the loop of %d iterations\" % self.iterations)\n",
    "        for i in range(self.iterations):\n",
    "            data = {\n",
    "                'Iteration': i,\n",
    "                'Random Number': random.random()\n",
    "            }\n",
    "            self.emit('results', data)\n",
    "            log.debug(\"Emitting results: %s\" % data)\n",
    "            self.emit('progress', 100 * i / self.iterations)\n",
    "            sleep(self.delay)\n",
    "            if self.should_stop():\n",
    "                log.warning(\"Caught the stop flag in the procedure\")\n",
    "                break\n",
    "\n",
    "\n",
    "if __name__ == \"__main__\":\n",
    "    console_log(log)\n",
    "\n",
    "    log.info(\"Constructing a RandomProcedure\")\n",
    "    procedure = RandomProcedure()\n",
    "    procedure.iterations = 100\n",
    "\n",
    "    data_filename = 'random.csv'\n",
    "    log.info(\"Constructing the Results with a data file: %s\" % data_filename)\n",
    "    results = Results(procedure, data_filename)\n",
    "\n",
    "    log.info(\"Constructing the Plotter\")\n",
    "    plotter = Plotter(results)\n",
    "    plotter.start()\n",
    "    log.info(\"Started the Plotter\")\n",
    "\n",
    "    log.info(\"Constructing the Worker\")\n",
    "    worker = Worker(results)\n",
    "    worker.start()\n",
    "    log.info(\"Started the Worker\")\n",
    "\n",
    "    log.info(\"Joining with the worker in at most 1 hr\")\n",
    "    worker.join(timeout=3600) # wait at most 1 hr (3600 sec)\n",
    "    log.info(\"Finished the measurement\")"
   ]
  },
  {
   "cell_type": "code",
   "execution_count": 2,
   "metadata": {},
   "outputs": [
    {
     "ename": "",
     "evalue": "",
     "output_type": "error",
     "traceback": [
      "\u001b[1;31mCanceled future for execute_request message before replies were done"
     ]
    },
    {
     "ename": "",
     "evalue": "",
     "output_type": "error",
     "traceback": [
      "\u001b[1;31mThe Kernel crashed while executing code in the the current cell or a previous cell. Please review the code in the cell(s) to identify a possible cause of the failure. Click <a href='https://aka.ms/vscodeJupyterKernelCrash'>here</a> for more info. View Jupyter <a href='command:jupyter.viewOutput'>log</a> for further details."
     ]
    }
   ],
   "source": [
    "import logging\n",
    "log = logging.getLogger(__name__)\n",
    "log.addHandler(logging.NullHandler())\n",
    "\n",
    "import sys\n",
    "import tempfile\n",
    "import random\n",
    "from time import sleep\n",
    "from pymeasure.log import console_log\n",
    "from pymeasure.display.Qt import QtWidgets\n",
    "from pymeasure.display.windows import ManagedWindow\n",
    "from pymeasure.experiment import Procedure, Results\n",
    "from pymeasure.experiment import IntegerParameter, FloatParameter, Parameter\n",
    "\n",
    "from pymeasure.instruments.keithley import Keithley2000\n",
    "\n",
    "\n",
    "class RandomProcedure(Procedure):\n",
    "\n",
    "    iterations = IntegerParameter('Loop Iterations')\n",
    "    delay = FloatParameter('Delay Time', units='s', default=0.2)\n",
    "    seed = Parameter('Random Seed', default='12345')\n",
    "\n",
    "    DATA_COLUMNS = ['Iteration', 'Random Number']\n",
    "\n",
    "    def startup(self):\n",
    "        log.info(\"Setting the seed of the random number generator\")\n",
    "        random.seed(self.seed)\n",
    "\n",
    "    def execute(self):\n",
    "        log.info(\"Starting the loop of %d iterations\" % self.iterations)\n",
    "        for i in range(self.iterations):\n",
    "            data = {\n",
    "                'Iteration': i,\n",
    "                'Random Number': random.random()\n",
    "            }\n",
    "            self.emit('results', data)\n",
    "            log.debug(\"Emitting results: %s\" % data)\n",
    "            self.emit('progress', 100 * i / self.iterations)\n",
    "            sleep(self.delay)\n",
    "            if self.should_stop():\n",
    "                log.warning(\"Caught the stop flag in the procedure\")\n",
    "                break\n",
    "class MultimeterProcedure(Procedure):\n",
    "\n",
    "    iterations = IntegerParameter('Loop Iterations')\n",
    "    delay = FloatParameter('Delay Time', units='s', default=0.2)\n",
    "    # seed = Parameter('Random Seed', default='12345')\n",
    "\n",
    "    DATA_COLUMNS = ['Iteration', 'Voltage']\n",
    "\n",
    "    def startup(self):\n",
    "        # Set conditions here\n",
    "        log.info(\"Setting the multimeter\")\n",
    "        multimeter.measure_voltage()\n",
    "\n",
    "    def execute(self):\n",
    "        # Put the runnning codes here\n",
    "        log.info(\"Starting the loop of %d iterations\" % self.iterations)\n",
    "        for i in range(self.iterations):\n",
    "            data = {\n",
    "                'Iteration': i,\n",
    "                'Voltage': multimeter.voltage\n",
    "            }\n",
    "            self.emit('results', data)\n",
    "            log.debug(\"Emitting results: %s\" % data)\n",
    "            self.emit('progress', 100 * i / self.iterations)\n",
    "            sleep(self.delay)\n",
    "            if self.should_stop():\n",
    "                log.warning(\"Caught the stop flag in the procedure\")\n",
    "                break\n",
    "\n",
    "class MainWindow(ManagedWindow):\n",
    "\n",
    "    def __init__(self):\n",
    "        super().__init__(\n",
    "            procedure_class=MultimeterProcedure,\n",
    "            inputs=['iterations', 'delay'],\n",
    "            displays=['iterations', 'delay'],\n",
    "            x_axis='Iteration',\n",
    "            y_axis='Voltage'\n",
    "        )\n",
    "        self.setWindowTitle('GUI Example')\n",
    "\n",
    "    def queue(self):\n",
    "        filename = tempfile.mktemp()\n",
    "\n",
    "        procedure = self.make_procedure()\n",
    "        results = Results(procedure, filename)\n",
    "        experiment = self.new_experiment(results)\n",
    "\n",
    "        self.manager.queue(experiment)\n",
    "\n",
    "\n",
    "if __name__ == \"__main__\":\n",
    "    multimeter = Keithley2000(\"GPIB::14\")\n",
    "    app = QtWidgets.QApplication(sys.argv)\n",
    "    window = MainWindow()\n",
    "    window.show()\n",
    "    sys.exit(app.exec())"
   ]
  },
  {
   "cell_type": "code",
   "execution_count": null,
   "metadata": {},
   "outputs": [],
   "source": []
  }
 ],
 "metadata": {
  "kernelspec": {
   "display_name": "Python 3.8.15 ('pymeasure_env')",
   "language": "python",
   "name": "python3"
  },
  "language_info": {
   "codemirror_mode": {
    "name": "ipython",
    "version": 3
   },
   "file_extension": ".py",
   "mimetype": "text/x-python",
   "name": "python",
   "nbconvert_exporter": "python",
   "pygments_lexer": "ipython3",
   "version": "3.8.15"
  },
  "orig_nbformat": 4,
  "vscode": {
   "interpreter": {
    "hash": "5e02ae91a49ba5a96295d8b678469b61cdd7bb317a795f9c62396b939bb18a91"
   }
  }
 },
 "nbformat": 4,
 "nbformat_minor": 2
}
